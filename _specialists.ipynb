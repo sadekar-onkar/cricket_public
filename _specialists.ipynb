{
 "cells": [
  {
   "cell_type": "code",
   "execution_count": 1,
   "metadata": {},
   "outputs": [],
   "source": [
    "import pandas as pd\n",
    "import numpy as np\n",
    "import matplotlib.pyplot as plt\n",
    "import os\n",
    "import seaborn as sns\n",
    "import matplotlib as mpl\n",
    "import math\n",
    "import pickle\n",
    "import matplotlib.patches as mpatches\n",
    "from tqdm import tqdm\n",
    "from scipy import stats\n",
    "import regex as re\n",
    "from collections import Counter\n",
    "from fuzzywuzzy import process\n",
    "from thefuzz import fuzz\n",
    "\n",
    "\n",
    "dat_path = os.getcwd()[:-12] + 'Data/'\n",
    "fig_path = os.getcwd()[:-4] + 'figures/preliminary/'\n",
    "generated_dat_path = os.getcwd()[:-12] + 'Data/generated_data/'\n",
    "\n",
    "text_font = 30"
   ]
  },
  {
   "cell_type": "code",
   "execution_count": 2,
   "metadata": {},
   "outputs": [
    {
     "data": {
      "text/plain": [
       "Index(['search_ID', 'Match_ID', 'Match_Date', 'Venue', 'Team', 'Overs', 'Runs',\n",
       "       'Wickets', 'player_name', 'bat_pos', 'bat_run', 'bat_balls',\n",
       "       'bat_fours', 'bat_sixes', 'bat_wicket', 'bowl_overs', 'bowl_maiden',\n",
       "       'bowl_runs', 'bowl_wickets', 'captain', 'wicketkeeper', 'PoM', 'Winner',\n",
       "       'Batting_Order', 'renormalized_bat_run', 'renormalized_runs',\n",
       "       'renormalized_bowl_runs', 'team_match_num', 'batsmen', 'bowler',\n",
       "       'allrounder', 'opp_wickets'],\n",
       "      dtype='object')"
      ]
     },
     "execution_count": 2,
     "metadata": {},
     "output_type": "execute_result"
    }
   ],
   "source": [
    "norm_quant = 'Runs'\n",
    "odi_final = pd.read_csv(dat_path + f'ODI_data_cleaned_merged_renorm_{norm_quant}_with_team_match_num_with_player_designation.csv')\n",
    "\n",
    "odi_final.columns"
   ]
  },
  {
   "cell_type": "code",
   "execution_count": 3,
   "metadata": {},
   "outputs": [],
   "source": [
    "def axis_decor(ax, text_font, major_length, minor_length, linewidth):\n",
    "\n",
    "    ax.spines['top'].set_linewidth(0)\n",
    "    ax.spines['right'].set_linewidth(0)\n",
    "    ax.spines['bottom'].set_linewidth(linewidth)\n",
    "    ax.spines['left'].set_linewidth(linewidth)\n",
    "\n",
    "    ax.tick_params(axis='both', which='major', labelsize=text_font, length=major_length, width=linewidth)\n",
    "    ax.tick_params(axis='both', which='minor', labelsize=text_font, length=minor_length, width=linewidth)"
   ]
  },
  {
   "cell_type": "code",
   "execution_count": 4,
   "metadata": {},
   "outputs": [],
   "source": [
    "def openers_non_openers_data(min_career, norm_quant, batsmen_pos_threshold, pos_min_threshold):\n",
    "\n",
    "    odi_final = pd.read_csv(dat_path + f'ODI_data_cleaned_merged_renorm_{norm_quant}_with_team_match_num_with_player_designation.csv')\n",
    "\n",
    "    odi_final['Match_Date'] = pd.to_datetime(odi_final['Match_Date'])\n",
    "    odi_final = odi_final.sort_values(by=['Match_ID','Team'])\n",
    "\n",
    "    players_list = np.unique(odi_final['player_name'])\n",
    "\n",
    "    openers_run, openers_strike = [], []\n",
    "    non_openers_run, non_openers_strike = [], []\n",
    "\n",
    "    openers_balls, non_openers_balls = [], []\n",
    "\n",
    "    for players in tqdm(players_list):\n",
    "        player_df = odi_final[odi_final['player_name'] == players]\n",
    "        player_df = player_df.reset_index(drop=True)\n",
    "\n",
    "        if len(player_df) >= min_career:\n",
    "\n",
    "            openers_ind = np.where(player_df['bat_pos'] < 3)[0]\n",
    "            non_openers_ind = np.where((3 <= player_df['bat_pos']) & (player_df['bat_pos'] <= batsmen_pos_threshold))[0]\n",
    "\n",
    "            if len(openers_ind) > pos_min_threshold:\n",
    "                openers_run.append(np.nanmean(player_df.iloc[openers_ind]['renormalized_bat_run']))\n",
    "                openers_strike.append(np.nanmean(player_df.iloc[openers_ind]['renormalized_bat_run']/player_df.iloc[openers_ind]['bat_balls']))\n",
    "                openers_balls.append(np.nanmean(player_df.iloc[openers_ind]['bat_balls']))\n",
    "\n",
    "            if len(non_openers_ind) > pos_min_threshold:\n",
    "                non_openers_run.append(np.nanmean(player_df.iloc[non_openers_ind]['renormalized_bat_run']))\n",
    "                non_openers_strike.append(np.nanmean(player_df.iloc[non_openers_ind]['renormalized_bat_run']/player_df.iloc[non_openers_ind]['bat_balls']))\n",
    "                non_openers_balls.append(np.nanmean(player_df.iloc[non_openers_ind]['bat_balls']))\n",
    "\n",
    "    print(np.nanmean(openers_balls), np.average(non_openers_balls))\n",
    "\n",
    "    with open(generated_dat_path + f'openers_non_openers_min_career_{min_career}_renorm_{norm_quant}_batsmen_pos_threshold_{batsmen_pos_threshold}_pos_min_threshold_{pos_min_threshold}.pkl', 'wb') as f:\n",
    "        pickle.dump([openers_run, openers_strike, openers_balls, non_openers_run, non_openers_strike, non_openers_balls], f)\n",
    "\n",
    "# openers_non_openers_data(min_career=25, norm_quant='Runs', batsmen_pos_threshold=6, pos_min_threshold=10)"
   ]
  },
  {
   "cell_type": "code",
   "execution_count": 11,
   "metadata": {},
   "outputs": [],
   "source": [
    "def openers_non_openers_plot(min_career, norm_quant, batsmen_pos_threshold, pos_min_threshold):\n",
    "\n",
    "    with open (generated_dat_path + f'openers_non_openers_min_career_{min_career}_renorm_{norm_quant}_batsmen_pos_threshold_{batsmen_pos_threshold}_pos_min_threshold_{pos_min_threshold}.pkl', 'rb') as f:\n",
    "        openers_run, openers_strike, openers_balls, non_openers_run, non_openers_strike, non_openers_balls = pickle.load(f)\n",
    "\n",
    "    fig, ax = plt.subplots(2,1, figsize=(10, 5))\n",
    "    ax = ax.flatten()\n",
    "\n",
    "    openers_strike = np.array(openers_strike)*100\n",
    "    non_openers_strike = np.array(non_openers_strike)*100\n",
    "\n",
    "    ind_problem = np.where(non_openers_strike > 125)[0]\n",
    "    openers_strike = np.delete(openers_strike, ind_problem)\n",
    "    non_openers_strike = np.delete(non_openers_strike, ind_problem)\n",
    "\n",
    "    color_list = ['#55A8AE', '#CFAF4E']\n",
    "\n",
    "    ##strike rate\n",
    "    ax[0].scatter(openers_strike, np.random.uniform(2,3, len(openers_strike)), color=color_list[0], s=70, alpha=0.6, marker='o')\n",
    "    ax[0].scatter(non_openers_strike, np.random.uniform(0,1, len(non_openers_strike)),  color=color_list[1], s=70, alpha=0.6, marker='o')\n",
    "    ax[0].set_ylabel('strike-rate', fontsize=text_font, labelpad=20)\n",
    "    ax[0].yaxis.set_label_coords(0.02, 0.42)\n",
    "    ax[0].vlines(np.nanmean(openers_strike), 1.7, 3.3, color='black', linewidth=4, linestyle='-')\n",
    "    ax[0].vlines(np.nanmean(non_openers_strike), -0.3, 1.3, color='black', linewidth=4, linestyle='-')\n",
    "    ax[0].set_ylim(-0.5, 3.5)\n",
    "    ax[0].set_xticks([40, 60, 80, 100])\n",
    "    ax[0].spines['bottom'].set_bounds(40, 100)\n",
    "\n",
    "\n",
    "    ##runs\n",
    "    ax[1].scatter(openers_run, np.random.uniform(2,3, len(openers_run)), color=color_list[0], s=70, alpha=0.6, marker='o')\n",
    "    ax[1].scatter(non_openers_run, np.random.uniform(0,1, len(non_openers_run)), color=color_list[1], s=70, alpha=0.6, marker='o')\n",
    "    ax[1].set_ylabel('runs', fontsize=text_font, labelpad=20)\n",
    "    ax[1].yaxis.set_label_coords(0.02, 0.42)\n",
    "    ax[1].vlines(np.nanmean(openers_run), 1.7, 3.3, color='black', linewidth=4, linestyle='-')\n",
    "    ax[1].vlines(np.nanmean(non_openers_run), -0.3, 1.3, color='black', linewidth=4, linestyle='-')\n",
    "    ax[1].set_ylim(-0.5, 3.5)\n",
    "    ax[1].set_xticks([10, 20, 30, 40, 50])\n",
    "    ax[1].spines['bottom'].set_bounds(10, 50)\n",
    "    \n",
    "    \n",
    "    \n",
    "\n",
    "    print(np.nanmean(openers_run), np.nanmean(non_openers_run))\n",
    "    print(np.nanmean(openers_strike), np.nanmean(non_openers_strike))\n",
    "\n",
    "    print((np.nanmean(openers_run) - np.nanmean(non_openers_run))/np.nanmean(non_openers_run))\n",
    "    print((np.nanmean(openers_strike) - np.nanmean(non_openers_strike))/np.nanmean(openers_strike))\n",
    "\n",
    "    for axi in ax:\n",
    "        axis_decor(axi, text_font, 10, 5, 3)  \n",
    "        axi.set_yticks([])\n",
    "        axi.set_yticklabels([])\n",
    "        axi.spines['left'].set_visible(False)\n",
    "\n",
    "    ax[0].scatter([],[], color=color_list[0], s=200, alpha=1, marker='o', label='openers')\n",
    "    ax[0].scatter([],[], color=color_list[1], s=200, alpha=1, marker='o', label='non-openers')\n",
    "\n",
    "    fig.legend(fontsize=text_font, loc='upper center', frameon=False, bbox_to_anchor=(0.35, 0.95, 0.2, 0.2), labelspacing=0.1, handletextpad=-0.4, columnspacing=0.1, ncol=2)\n",
    "\n",
    "    plt.tight_layout()\n",
    "    plt.savefig(fig_path + f'openers_non_openers_min_career_{min_career}_renorm_{norm_quant}_batsmen_pos_threshold_{batsmen_pos_threshold}_pos_min_threshold_{pos_min_threshold}.pdf', format='pdf', dpi=300)\n",
    "    plt.show()\n",
    "    plt.close()\n",
    "\n",
    "# openers_non_openers_plot(min_career=25, norm_quant='Runs', batsmen_pos_threshold=6, pos_min_threshold=10)"
   ]
  },
  {
   "cell_type": "code",
   "execution_count": 6,
   "metadata": {},
   "outputs": [],
   "source": [
    "def all_rounders_data(min_career, norm_quant):\n",
    "\n",
    "    odi_final = pd.read_csv(dat_path + f'ODI_data_cleaned_merged_renorm_{norm_quant}_with_team_match_num_with_player_designation.csv')\n",
    "\n",
    "    odi_final = odi_final.sort_values(by=['Match_ID','Team'])\n",
    "\n",
    "    players_list = np.unique(odi_final['player_name'])\n",
    "\n",
    "    all_rounder_contri, batsman_contri, bowler_contri = [], [], []\n",
    "\n",
    "    for player in tqdm(players_list):\n",
    "        player_df = odi_final[odi_final['player_name'] == player]\n",
    "\n",
    "        if player_df['allrounder'].sum() >= min_career:\n",
    "            for i in range(len(player_df)):\n",
    "                tc = 0\n",
    "                if (player_df.iloc[i]['renormalized_runs'] > 0) and (~np.isnan(player_df.iloc[i]['renormalized_bat_run'])):\n",
    "                    tc += player_df.iloc[i]['renormalized_bat_run']/player_df.iloc[i]['renormalized_runs']\n",
    "                if (player_df.iloc[i]['opp_wickets'] > 0) and (~np.isnan(player_df.iloc[i]['bowl_wickets'])):\n",
    "                    tc += player_df.iloc[i]['bowl_wickets']/player_df.iloc[i]['opp_wickets']\n",
    "                all_rounder_contri.append(0.5*tc)\n",
    "\n",
    "        elif player_df['batsmen'].sum() >= min_career:\n",
    "            for i in range(len(player_df)):\n",
    "                if (player_df.iloc[i]['renormalized_runs'] > 0): \n",
    "                    if (~np.isnan(player_df.iloc[i]['renormalized_bat_run'])):\n",
    "                        batsman_contri.append(0.5*(player_df.iloc[i]['renormalized_bat_run']/player_df.iloc[i]['renormalized_runs']))\n",
    "                    else:\n",
    "                        batsman_contri.append(0)\n",
    "\n",
    "\n",
    "        elif player_df['bowler'].sum() >= min_career:\n",
    "            for i in range(len(player_df)):\n",
    "                if (player_df.iloc[i]['opp_wickets'] > 0): \n",
    "                    if(~np.isnan(player_df.iloc[i]['bowl_wickets'])):\n",
    "                        bowler_contri.append(0.5*(player_df.iloc[i]['bowl_wickets']/player_df.iloc[i]['opp_wickets']))\n",
    "                    else:\n",
    "                        bowler_contri.append(0)\n",
    "\n",
    "                    if bowler_contri[-1] > 1:\n",
    "                        print(player, player_df.iloc[i]['bowl_wickets'], player_df.iloc[i]['opp_wickets'])\n",
    "                        break\n",
    "\n",
    "\n",
    "    with open(generated_dat_path + f'all_rounders_contribution_min_career_{min_career}_renorm_{norm_quant}.pkl', 'wb') as f:\n",
    "        pickle.dump([all_rounder_contri, batsman_contri, bowler_contri], f)\n",
    "\n",
    "# all_rounders_data(min_career=25, norm_quant='Runs')"
   ]
  },
  {
   "cell_type": "code",
   "execution_count": 7,
   "metadata": {},
   "outputs": [
    {
     "name": "stdout",
     "output_type": "stream",
     "text": [
      "0.10730404007642348 0.09711492364121678 0.06345982531790796\n"
     ]
    },
    {
     "data": {
      "image/png": "[encoded data removed]",
      "text/plain": [
       "<Figure size 720x288 with 1 Axes>"
      ]
     },
     "metadata": {
      "needs_background": "light"
     },
     "output_type": "display_data"
    }
   ],
   "source": [
    "def all_rounders_plot(min_career, norm_quant):\n",
    "    \n",
    "    with open(generated_dat_path + f'all_rounders_contribution_min_career_{min_career}_renorm_{norm_quant}.pkl', 'rb') as f:\n",
    "        all_rounder_contri, batsman_contri, bowler_contri = pickle.load(f)\n",
    "\n",
    "    fig, ax = plt.subplots(1, 1, figsize=(10, 4))\n",
    "\n",
    "    batsman_contri = np.array(batsman_contri)#*2\n",
    "    bowler_contri = np.array(bowler_contri)#*2\n",
    "    all_rounder_contri = np.array(all_rounder_contri)\n",
    "\n",
    "    # batsman_contri = batsman_contri[batsman_contri > 0]\n",
    "    # bowler_contri = bowler_contri[bowler_contri > 0]\n",
    "    # all_rounder_contri = all_rounder_contri[all_rounder_contri > 0]\n",
    "\n",
    "\n",
    "    color_list = ['#5B7B5D', '#E2B569', '#F979B6']\n",
    "\n",
    "    ax.scatter(all_rounder_contri, np.random.uniform(0,1, len(all_rounder_contri)), color=color_list[0], s=70, alpha=0.3, marker='o')\n",
    "\n",
    "    ax.scatter(bowler_contri, np.random.uniform(2,3, len(bowler_contri)), color=color_list[1], s=70, alpha=0.3, marker='o')\n",
    "\n",
    "    ax.scatter(batsman_contri, np.random.uniform(4,5, len(batsman_contri)), color=color_list[2], s=70, alpha=0.3, marker='o')\n",
    "\n",
    "    ax.vlines(np.nanmean(all_rounder_contri), -0.3, 1.3, color='black', linewidth=4, linestyle='-')\n",
    "    ax.vlines(np.nanmean(bowler_contri), 1.7, 3.3, color='black', linewidth=4, linestyle='-')\n",
    "    ax.vlines(np.nanmean(batsman_contri), 3.7, 5.3, color='black', linewidth=4, linestyle='-')\n",
    "\n",
    "    print(np.nanmean(all_rounder_contri), np.nanmean(bowler_contri), np.nanmean(batsman_contri))\n",
    "\n",
    "    ax.text(0.77, 0.3, 'all-rounder', fontsize=text_font)\n",
    "    ax.text(0.54, 2.2, 'bowler wickets', fontsize=text_font)\n",
    "    ax.text(0.47, 4.3, 'batsmen runs', fontsize=text_font)\n",
    "    \n",
    "    ax.set_ylim(-0.5, 5.5)\n",
    "    ax.set_xticks([0, 0.25, 0.5, 0.75, 1.0])\n",
    "    ax.spines['bottom'].set_bounds(0,1)\n",
    "\n",
    "    ax.set_yticks([])\n",
    "    ax.set_yticklabels([])\n",
    "    ax.spines['left'].set_visible(False)\n",
    "\n",
    "    ax.set_xlabel(rf'fractional contribution, $f_c$', fontsize=text_font+5)\n",
    "\n",
    "    axis_decor(ax, text_font, 10, 5, 3)\n",
    "\n",
    "    plt.tight_layout()\n",
    "    plt.savefig(fig_path + f'all_rounders_contribution_min_career_{min_career}_renorm_{norm_quant}.png', format='png', dpi=200)\n",
    "    plt.show()\n",
    "    plt.close()\n",
    "\n",
    "# all_rounders_plot(min_career=25, norm_quant='Runs')"
   ]
  },
  {
   "cell_type": "code",
   "execution_count": 8,
   "metadata": {},
   "outputs": [],
   "source": [
    "def get_fielder_name(name_str):\n",
    "\n",
    "    exception_name = ['deSilva', 'tenDoeschate','vanderWath','deLeede','vanBunge', 'vanderMerwe', 'deLange','vanMeekeren', 'vanBeek', 'vanderGugten', 'vanBunge', 'vanTrost', 'duPlessis', 'deGrandhomme', 'deVilliers', 'vanLingen', 'vanTroost', 'vanJaarsveld', 'vanVuuren', 'vanRooi','deGrooth', 'deKock', 'vanderDussen']\n",
    "    exception_pattern = '|'.join(exception_name)  # creates a pattern like 'deSilva|tenDoeschate|vanderWath|...'\n",
    "\n",
    "    weird_outs = ['notout', 'runout', 'retiredhurt', 'obstructingfield', 'handledball', 'retiredill', 'retiredout']\n",
    "\n",
    "    name = re.split('b(?=[A-Z])', name_str)\n",
    "\n",
    "    if len(name) > 1:\n",
    "        temp_name = name[0].replace('c', '').replace('st','').replace('†', '')\n",
    "        if temp_name == '&':\n",
    "            temp_name = name[1].replace('c', '').replace('st','').replace('†', '').replace('b', '').replace('&', '')\n",
    "\n",
    "    elif len(name) == 1:\n",
    "        name = re.split('b(?=' + exception_pattern + ')', name_str)\n",
    "\n",
    "        if len(name) > 1:\n",
    "            temp_name = name[0].replace('c', '').replace('st','').replace('†', '')\n",
    "            if temp_name == '&':\n",
    "                temp_name = name[1].replace('c', '').replace('st','').replace('†', '').replace('b', '').replace('&', '')\n",
    "        else:\n",
    "            if name[0] in weird_outs:\n",
    "                return None\n",
    "            else:\n",
    "                return None\n",
    "    else:\n",
    "        return None\n",
    "\n",
    "    return temp_name\n",
    "    "
   ]
  },
  {
   "cell_type": "code",
   "execution_count": 32,
   "metadata": {},
   "outputs": [
    {
     "name": "stderr",
     "output_type": "stream",
     "text": [
      "100%|██████████| 4566/4566 [03:43<00:00, 20.47it/s]"
     ]
    },
    {
     "name": "stdout",
     "output_type": "stream",
     "text": [
      "Sangakkara 477 391\n",
      "Dhoni 441 340\n"
     ]
    },
    {
     "name": "stderr",
     "output_type": "stream",
     "text": [
      "\n"
     ]
    }
   ],
   "source": [
    "def wicketkeepers_data(min_career, norm_quant):\n",
    "    odi_final = pd.read_csv(dat_path + f'ODI_data_cleaned_merged_renorm_{norm_quant}_with_team_match_num_with_player_designation.csv')\n",
    "\n",
    "    odi_final = odi_final.sort_values(by=['Match_ID','Team'])\n",
    "\n",
    "    match_id_list = np.unique(odi_final['Match_ID'])\n",
    "\n",
    "    wicketkeepers_data, fielders_data = {}, {}\n",
    "    career_length = {}\n",
    "\n",
    "    final_wicketkeepers_data, final_fielders_data = [], []\n",
    "\n",
    "    \n",
    "    for match_id in tqdm(match_id_list):\n",
    "        match_df = odi_final[odi_final['Match_ID'] == match_id]\n",
    "\n",
    "        for i in range(len(match_df)):\n",
    "            if str(match_df.iloc[i]['bat_wicket']) != 'nan':\n",
    "\n",
    "                name = get_fielder_name(match_df.iloc[i]['bat_wicket'])\n",
    "\n",
    "                if name == None:\n",
    "                    continue\n",
    "\n",
    "                if ('†' in match_df.iloc[i]['bat_wicket']):\n",
    "                    \n",
    "                    try:\n",
    "                        wicketkeepers_data[name] += 1\n",
    "                    except:\n",
    "                        wicketkeepers_data[name] = 1\n",
    "\n",
    "                    mask = match_df['player_name'].str.contains(name)\n",
    "                    filtered_df = match_df[mask]\n",
    "\n",
    "                    if len(filtered_df) < 1:\n",
    "                        ratios = [(n, fuzz.partial_ratio(name, n)) for n in match_df['player_name']]\n",
    "                        best_match, max_ratio = max(ratios, key=lambda x: x[1])\n",
    "                        player_df = odi_final[odi_final['player_name'] == best_match]\n",
    "                        career_length[name] = len(player_df['Match_ID'])\n",
    "                    \n",
    "                    else:\n",
    "                        player_df = odi_final[odi_final['player_name'] == filtered_df.iloc[0]['player_name']]\n",
    "                        career_length[name] = len(player_df['Match_ID']) \n",
    "\n",
    "\n",
    "                else:\n",
    "                    if match_df.iloc[i]['bat_wicket'][0] == 'c':\n",
    "                        \n",
    "                        try:\n",
    "                            fielders_data[name] += 1\n",
    "                        except:\n",
    "                            fielders_data[name] = 1\n",
    "\n",
    "                        mask = match_df['player_name'].str.contains(name)\n",
    "                        filtered_df = match_df[mask]\n",
    "\n",
    "                        if len(filtered_df) < 1:\n",
    "                            ratios = [(n, fuzz.partial_ratio(name, n)) for n in match_df['player_name']]\n",
    "                            best_match, max_ratio = max(ratios, key=lambda x: x[1])\n",
    "                            player_df = odi_final[odi_final['player_name'] == best_match]\n",
    "                            career_length[name] = len(player_df['Match_ID'])\n",
    "                        \n",
    "                        else:\n",
    "                            player_df = odi_final[odi_final['player_name'] == filtered_df.iloc[0]['player_name']]\n",
    "                            career_length[name] = len(player_df['Match_ID']) \n",
    "\n",
    "\n",
    "    for player_name in wicketkeepers_data.keys():\n",
    "        if 'Dhoni' in player_name or 'Sangakkara' in player_name:\n",
    "            print(player_name, wicketkeepers_data[player_name], career_length[player_name])\n",
    "        if career_length[player_name] >= min_career:\n",
    "            final_wicketkeepers_data.append(wicketkeepers_data[player_name]/career_length[player_name])\n",
    "\n",
    "    for player_name in fielders_data.keys():\n",
    "        if career_length[player_name] >= min_career:\n",
    "            final_fielders_data.append(fielders_data[player_name]/career_length[player_name])\n",
    "\n",
    "\n",
    "    with open(generated_dat_path + f'wicketkeepers_career_data_min_career_{min_career}_renorm_{norm_quant}.pkl', 'wb') as f:\n",
    "        pickle.dump([final_wicketkeepers_data, final_fielders_data], f)\n",
    "\n",
    "wicketkeepers_data(min_career=25, norm_quant='Runs')"
   ]
  },
  {
   "cell_type": "code",
   "execution_count": 10,
   "metadata": {},
   "outputs": [
    {
     "name": "stdout",
     "output_type": "stream",
     "text": [
      "0.7136004489528831 0.32465402937791404\n"
     ]
    },
    {
     "data": {
      "image/png": "[encoded data removed]",
      "text/plain": [
       "<Figure size 288x648 with 1 Axes>"
      ]
     },
     "metadata": {
      "needs_background": "light"
     },
     "output_type": "display_data"
    }
   ],
   "source": [
    "def wicketkeepers_plot(min_career, norm_quant):\n",
    "\n",
    "    with open(generated_dat_path + f'wicketkeepers_career_data_min_career_{min_career}_renorm_{norm_quant}.pkl', 'rb') as f:\n",
    "        wicketkeepers_data, fielders_data = pickle.load(f)\n",
    "\n",
    "    fig, ax = plt.subplots(1,1, figsize=(4, 9))\n",
    "\n",
    "    ax.boxplot([wicketkeepers_data, fielders_data], positions=[2,5], widths=1.5, \n",
    "               patch_artist=True, showfliers=False, boxprops=dict(facecolor='#E64644', color='#E64644'), \n",
    "               medianprops=dict(color='white', linewidth=4), \n",
    "               whiskerprops=dict(color='black', linewidth=3), \n",
    "               capprops=dict(color='black', linewidth=3))\n",
    "    \n",
    "    # ax.violinplot([wicketkeepers_data, fielders_data], positions=[2,5], widths=1.5, showmedians=True)\n",
    "\n",
    "    axis_decor(ax, text_font, 10, 5, 3)\n",
    "    ax.tick_params(axis='x', which='major', labelsize=text_font, length=0, width=0)\n",
    "    ax.set_xticks([1.1,4.5],['keeper', 'fielder'], fontsize=text_font, rotation=28, ha='center')\n",
    "    ax.set_xlim(0,6)\n",
    "    ax.set_ylabel(rf'dismissals per match, $d_i$', fontsize=text_font)\n",
    "\n",
    "    print(np.nanmean(wicketkeepers_data), np.nanmean(fielders_data))\n",
    "    \n",
    "\n",
    "    plt.tight_layout()\n",
    "    plt.savefig(fig_path + f'wicketkeepers_career_data_min_career_{min_career}_renorm_{norm_quant}.pdf', format='pdf', dpi=300)\n",
    "    plt.show()\n",
    "    plt.close()\n",
    "\n",
    "# wicketkeepers_plot(min_career=25, norm_quant='Runs')"
   ]
  },
  {
   "cell_type": "code",
   "execution_count": 30,
   "metadata": {},
   "outputs": [
    {
     "name": "stderr",
     "output_type": "stream",
     "text": [
      " 32%|███▏      | 932/2882 [00:25<00:52, 37.01it/s]"
     ]
    },
    {
     "name": "stdout",
     "output_type": "stream",
     "text": [
      "Shahid Afridi 24.3737908409078 90.53554816003685\n"
     ]
    },
    {
     "name": "stderr",
     "output_type": "stream",
     "text": [
      " 37%|███▋      | 1076/2882 [00:29<00:48, 37.35it/s]"
     ]
    },
    {
     "name": "stdout",
     "output_type": "stream",
     "text": [
      "Virender Sehwag 35.66806080947292 93.87669670616187\n"
     ]
    },
    {
     "name": "stderr",
     "output_type": "stream",
     "text": [
      " 42%|████▏     | 1224/2882 [00:33<00:44, 37.03it/s]"
     ]
    },
    {
     "name": "stdout",
     "output_type": "stream",
     "text": [
      "Brendon McCullum 30.831518885507496 97.41623355904058\n"
     ]
    },
    {
     "name": "stderr",
     "output_type": "stream",
     "text": [
      " 61%|██████    | 1756/2882 [00:47<00:30, 37.15it/s]"
     ]
    },
    {
     "name": "stdout",
     "output_type": "stream",
     "text": [
      "Rizwan Cheema 32.355892137036975 97.42655335780408\n"
     ]
    },
    {
     "name": "stderr",
     "output_type": "stream",
     "text": [
      " 73%|███████▎  | 2116/2882 [00:57<00:20, 38.13it/s]"
     ]
    },
    {
     "name": "stdout",
     "output_type": "stream",
     "text": [
      "Sharjeel Khan 29.90080242312373 91.96405585077926\n"
     ]
    },
    {
     "name": "stderr",
     "output_type": "stream",
     "text": [
      " 79%|███████▉  | 2276/2882 [01:01<00:16, 37.63it/s]"
     ]
    },
    {
     "name": "stdout",
     "output_type": "stream",
     "text": [
      "Travis Head 44.51760487929745 100.26695062895502\n"
     ]
    },
    {
     "name": "stderr",
     "output_type": "stream",
     "text": [
      " 80%|███████▉  | 2300/2882 [01:02<00:15, 37.85it/s]"
     ]
    },
    {
     "name": "stdout",
     "output_type": "stream",
     "text": [
      "Temba Bavuma 57.044132414354415 91.59693951503954\n"
     ]
    },
    {
     "name": "stderr",
     "output_type": "stream",
     "text": [
      "100%|██████████| 2882/2882 [01:17<00:00, 37.14it/s]\n"
     ]
    }
   ],
   "source": [
    "def openers_example(norm_quant, min_career, pos_min_threshold):\n",
    "\n",
    "\n",
    "    odi_final = pd.read_csv(dat_path + f'ODI_data_cleaned_merged_renorm_{norm_quant}_with_team_match_num_with_player_designation.csv')\n",
    "\n",
    "    odi_final['Match_Date'] = pd.to_datetime(odi_final['Match_Date'])\n",
    "\n",
    "    players_list = odi_final['player_name'].unique()\n",
    "\n",
    "    for player in tqdm(players_list):\n",
    "        player_df = odi_final[odi_final['player_name'].str.contains(player)]\n",
    "        player_df = player_df.reset_index(drop=True)\n",
    "\n",
    "        if len(player_df) >= min_career:\n",
    "\n",
    "            openers_ind = np.where(player_df['bat_pos'] < 3)[0]\n",
    "\n",
    "            if len(openers_ind) > pos_min_threshold:\n",
    "                str_rate = np.nanmean(player_df.iloc[openers_ind]['renormalized_bat_run']/player_df.iloc[openers_ind]['bat_balls'])*100\n",
    "                avg = np.nanmean(player_df.iloc[openers_ind]['renormalized_bat_run'])\n",
    "\n",
    "                if str_rate > 90:\n",
    "                    print(player, avg, str_rate)\n",
    "\n",
    "# openers_example(norm_quant='Runs', min_career=25, pos_min_threshold=10)"
   ]
  }
 ],
 "metadata": {
  "kernelspec": {
   "display_name": "base",
   "language": "python",
   "name": "python3"
  },
  "language_info": {
   "codemirror_mode": {
    "name": "ipython",
    "version": 3
   },
   "file_extension": ".py",
   "mimetype": "text/x-python",
   "name": "python",
   "nbconvert_exporter": "python",
   "pygments_lexer": "ipython3",
   "version": "3.9.7"
  }
 },
 "nbformat": 4,
 "nbformat_minor": 2
}
